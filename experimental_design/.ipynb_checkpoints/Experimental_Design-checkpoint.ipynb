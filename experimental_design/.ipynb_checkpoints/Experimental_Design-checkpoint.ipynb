{
 "cells": [
  {
   "cell_type": "markdown",
   "metadata": {},
   "source": [
    "# The Intricacy of Experimental Design and Estimating Truth\n",
    "\n",
    "### Introduction\n",
    "Imagine you are a scientist in a lab, and you are tasked with finding the best formation cycle current profile to get the maximum battery stability (i.e. cycle life) or the minimum capacity fading.\n",
    "Remember that during the first few charging cycles the solid-electrolyte-interphase (SEI) is formed on the graphite particles, which has a severe impact on the stability of the battery.\n",
    "We will define different charging current profiles during the first ten cycles using two parameters. (Note that for a real optimization problem in the lab, we often have 3, 4, 5, or even more factors / parameters to vary).\n",
    "\n",
    "In this exercise, we are going to explore three methods for conducting such an experiment. \n",
    "\n",
    "In the current folder, you should find an Excel File called 'LabBook'. Here, you can note down all relevant measurement data. The file: 'helper_functions.py' comprises several python-methods working in the background. If you are interested, you can have a look, but for the purpose of this exercise, you don't need to. Any graphs generated throughout the notebook are saved to the folder 'ResultsGraphs'. \n",
    "\n",
    "Right now, you know the following about your Experiment: \n",
    "- There are two variables that you can change in your measurement: Factor 1, called \"Current Slope\" and Factor 2, called \"Current Constant\". Their physical meaning is explained in the lecture notes.\n",
    "- Both your variables can take values between -3 and 3.\n",
    "- During your measurement, you generate the Output. In our case, we measure the Coulombic Efficiency during the first 100 cycles and take it as a measure of the battery's capacity fading.\n",
    "- In total, you can perform 20 measurements. \n",
    "- Your goal is to find a value as small as possible by varying Factor 1 and Factor 2. \n",
    "\n",
    "Before getting started, here are some remarks about running this Jupyter Notebook: \n",
    "- Code-Cells can be executed by hitting 'Shift-Enter'. \n",
    "- You can install all necessary packages by opening an Anaconda prompt shell (in the Anaconda Navigator) and running the following command: \n",
    "    - conda env update --file \"replace-with-path\\to\\this\\folder>\\environment.yml\"\n",
    "- If any difficulties arise, don't hesitate to ask ChatGPT or similar. \n",
    "- If this doesn't solve the problem, contact us.\n",
    "\n",
    "\n",
    "Please run the following code to initialize the Jupyter Notebook: "
   ]
  },
  {
   "cell_type": "code",
   "execution_count": 2,
   "metadata": {},
   "outputs": [
    {
     "name": "stdout",
     "output_type": "stream",
     "text": [
      "THIS IS YOUR PARAMETER SPACE : \n"
     ]
    },
    {
     "data": {
      "image/png": "[encoded data removed]",
      "text/plain": [
       "<Figure size 500x500 with 2 Axes>"
      ]
     },
     "metadata": {},
     "output_type": "display_data"
    }
   ],
   "source": [
    "import os\n",
    "cf = os.path.dirname(os.path.abspath('Experimental_Design.ipynb'))\n",
    "os.chdir(cf)\n",
    "from helper_functions import *\n",
    "req()\n",
    "show_parameter_space()"
   ]
  },
  {
   "cell_type": "markdown",
   "metadata": {},
   "source": [
    "### Intuitive Approach\n",
    "\n",
    "1. Think about and write down, how you would intuitively design the full experiment? \n",
    "    - What would be your measurement points? \n",
    "    - How can you make sure, you find the optimal value? \n",
    "2. Perform your experiment with the method 'lab_measurement' (see below), by giving it the values for Factor 1 and Factor 2 \n",
    "    - Write down all results in the Excel File 'LabBook' in the sheet 'Intuitive Approach'. "
   ]
  },
  {
   "cell_type": "code",
   "execution_count": 3,
   "metadata": {},
   "outputs": [
    {
     "name": "stdout",
     "output_type": "stream",
     "text": [
      "YOUR MEASUREMENT IS BEING PROCESSED. PLEASE WAIT! -\n",
      " \n",
      "                    _..._                  \n",
      "                   //''\\\\                 \n",
      "                   ||o o||                 \n",
      "                   |\\ _ /|      )          \n",
      "                  .-/\\ /\\-.     (   |      \n",
      "                 |  ` \\ '  |    _   |      \n",
      "           )     | |  |  | |    H=--+-     \n",
      "           ((    | |__|[ | |    U   |      \n",
      "           __    \\___(_3/ /     (   |      \n",
      "-|_H_H_|---||---------|!|/------|---|---.  \n",
      " |_U_U_|  /__\\        |_|      _[_ _|__  \\ \n",
      "------------------------------------------`\n",
      "\n",
      "YOUR MEASUREMENT IS FINISHED!\n",
      "The result is: \n",
      "-0.009227807814292213\n"
     ]
    }
   ],
   "source": [
    "_ = lab_measurement(x1 = -2, x2 = -2)\n"
   ]
  },
  {
   "cell_type": "markdown",
   "metadata": {},
   "source": [
    "3. Once you have conducted all the measurements, try to determine the minimal point of the system by looking at your data. Where would you suspect the minimum to be? \n",
    "4. Now, try to determine the minimum by fitting a quadratic function, with the method 'function_fit'. It accesses all of your datapoints in the 'Excel sheet'. The method minimize_and_visualize shows your function fit and marks the minimum value of the fit. \n"
   ]
  },
  {
   "cell_type": "code",
   "execution_count": null,
   "metadata": {},
   "outputs": [],
   "source": [
    "# model_function can be set to: 'linear' , 'quadratic', 'gaussian'\n",
    "function_type = 'quadratic'\n",
    "opt, cov, x1, x2 = function_fit(model_function = function_type, sheet = 'Intuitive Approach')\n",
    "minimize_and_visualize(opt,cov, function_type, 'Intuitive', x1original=x1, x2original = x2)"
   ]
  },
  {
   "cell_type": "markdown",
   "metadata": {},
   "source": [
    "5. Compare your own minimum point and the point determined by the function fit. \n",
    "- How much do they differ? \n",
    "- Is there a way to determine, which one is more accurate?\n",
    "- What are challenges in both methods? "
   ]
  },
  {
   "cell_type": "markdown",
   "metadata": {},
   "source": [
    "Let's try a different method: \n",
    "\n",
    "### Random Sampling\n",
    "\n",
    "6. In random sampling each of the values is randomly chosen from a normal distribution. \n",
    "Execute the method 'choose_random_sampling' as described below. You can find your measurement points in your LabBook. "
   ]
  },
  {
   "cell_type": "code",
   "execution_count": null,
   "metadata": {},
   "outputs": [],
   "source": [
    "gimme_random_experiments(no_of_experiments = 20, sheet = 'Random Sampling')"
   ]
  },
  {
   "cell_type": "markdown",
   "metadata": {},
   "source": [
    "As you are now already an expert in the lab, you now have a student assistant who will do all the measurements for you. All you need to do, is execute the next line.  "
   ]
  },
  {
   "cell_type": "code",
   "execution_count": null,
   "metadata": {},
   "outputs": [],
   "source": [
    "read_excel_and_measure('Random Sampling')"
   ]
  },
  {
   "cell_type": "markdown",
   "metadata": {},
   "source": [
    "6. As above, try to determine the minimal point by hand. \n",
    "7. As above, fit a quadratic function with the method function_fit and determine the minimum value with the function minimize_and_visualize"
   ]
  },
  {
   "cell_type": "code",
   "execution_count": null,
   "metadata": {},
   "outputs": [],
   "source": [
    "# model_function can be set to: 'linear' , 'quadratic', 'gaussian'\n",
    "function_type = 'quadratic'\n",
    "opt, cov, x1, x2 = function_fit(model_function = function_type, sheet = 'Random Sampling')\n",
    "minimize_and_visualize(opt,cov, function_type, 'Random', x1original=x1, x2original = x2)"
   ]
  },
  {
   "cell_type": "markdown",
   "metadata": {},
   "source": [
    "8. How accurate is your minimal point this time? \n",
    "9. What could be problems arising from this method? "
   ]
  },
  {
   "cell_type": "markdown",
   "metadata": {},
   "source": [
    "Now let's try an automatic sequential approach to conducting the measurement. \n",
    "\n",
    "### Bayesian Optimization\n",
    "\n",
    "A Bayesian Optimizer is an algorithm that continuously updates its knowledge about the measured system. \n",
    "You start by 'feeding' the algorithm 4 initial datapoints. After that, the algorithm will always tell you where you should measure next to try and find the optimal setup.\n",
    "\n",
    "10. Determine the four initial datapoints either by writing down four measurement points yourself (skip the next code line), or by conducting a random sampling: "
   ]
  },
  {
   "cell_type": "code",
   "execution_count": null,
   "metadata": {},
   "outputs": [],
   "source": [
    "gimme_random_experiments(no_of_experiments = 4, sheet = 'Bayesian Optimization')"
   ]
  },
  {
   "cell_type": "markdown",
   "metadata": {},
   "source": [
    "11. Let your lab helper perform the experiments again:  "
   ]
  },
  {
   "cell_type": "code",
   "execution_count": null,
   "metadata": {},
   "outputs": [],
   "source": [
    "read_excel_and_measure('Bayesian Optimization')\n",
    "#_= lab_measurement(x1 = 0.748277279365206, x2 = 1.59950293693903)"
   ]
  },
  {
   "cell_type": "markdown",
   "metadata": {},
   "source": [
    "12. Now you run the Bayesian optimizer with the method 'bayesian_optimizer'. It will tell you the next two measurement points and display its current state of knowledge about the system in a graph. All the graphs are saved in the folder 'ResultsGraphs'. Note down your next measurement points in the LabBook, perform the measurement as before, and write down the result likewise. Repeat this until you have performed all of your 20 experiments. "
   ]
  },
  {
   "cell_type": "code",
   "execution_count": null,
   "metadata": {},
   "outputs": [],
   "source": [
    "bayesian_optimizer(sheet = 'Bayesian Optimization')"
   ]
  },
  {
   "cell_type": "code",
   "execution_count": null,
   "metadata": {},
   "outputs": [],
   "source": [
    "_= lab_measurement(x1 = -1.0657590658421543, x2 =  -0.7863958816844376)"
   ]
  },
  {
   "cell_type": "markdown",
   "metadata": {},
   "source": [
    "13. As above you can now also try to fit a quadratic function. Try this below."
   ]
  },
  {
   "cell_type": "code",
   "execution_count": null,
   "metadata": {},
   "outputs": [],
   "source": [
    "# model_function can be set to: 'linear' , 'quadratic', 'gaussian'\n",
    "function_type = 'quadratic'\n",
    "opt, cov, x1, x2 = function_fit(model_function = function_type, sheet = 'Bayesian Optimization')\n",
    "minimize_and_visualize(opt,cov, function_type, 'Bayesian', x1original=x1, x2original = x2)"
   ]
  },
  {
   "cell_type": "markdown",
   "metadata": {},
   "source": [
    "14. During the Bayesian Optimization, a function is continuously fit to the data. However, in a standard procedure, the used function is not a parametric one as in the examples above. A so-called 'Gaussian Process' is used. Gaussian Processes are non-parametric models, which work by estimating a probability distribution for each measurement point. In this way, we not only get a mean but also an uncertainty value for each point in the parameter space. This allows us to suggest new measurement points by balancing between regions close to the current best minimum and regions with high uncertainty. By passing the function_type 'gpr' to the minimize_and_visualize function, you can see the difference to the above fit. \n",
    "- How different are the minima? "
   ]
  },
  {
   "cell_type": "code",
   "execution_count": null,
   "metadata": {},
   "outputs": [],
   "source": [
    "# model_function can be set to: or 'gpr'\n",
    "function_type = 'gpr'\n",
    "minimize_and_visualize('Bayesian Optimization', 0 , function_type, 'Bayesian')"
   ]
  },
  {
   "cell_type": "markdown",
   "metadata": {},
   "source": [
    "#### Conclusion\n",
    "\n",
    "15. Compare all of your results. Which method gives the lowest minimum value? \n",
    "16. How far are the results apart? \n",
    "17. Write down advantages and disadvantages of the three methods including how the fitting function influences the final result.  "
   ]
  }
 ],
 "metadata": {
  "kernelspec": {
   "display_name": "Python 3 (ipykernel)",
   "language": "python",
   "name": "python3"
  },
  "language_info": {
   "codemirror_mode": {
    "name": "ipython",
    "version": 3
   },
   "file_extension": ".py",
   "mimetype": "text/x-python",
   "name": "python",
   "nbconvert_exporter": "python",
   "pygments_lexer": "ipython3",
   "version": "3.11.5"
  }
 },
 "nbformat": 4,
 "nbformat_minor": 4
}
