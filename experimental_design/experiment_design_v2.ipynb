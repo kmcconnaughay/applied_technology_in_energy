{
 "cells": [
  {
   "cell_type": "markdown",
   "id": "8af57825-fb88-4b1c-bde5-a985e1cfc6db",
   "metadata": {},
   "source": [
    "# The Intricacy of Experimental Design and Estimating Truth\n",
    "\n",
    "## Introduction\n",
    "\n",
    "You are a scientist tasked with finding the formation cycle current profile that minimizes **capacity fading**. Equivalently, you could say you wish to maximize **cycle life** or maximize **battery stability**.\n",
    "\n",
    "Recall that **formation** is a process that battery manufacturers perform on new lithium-ion batteries. During formation, manufacturers cycle the battery a few times in order to form a **solid-electrolyte interphase (SEI)** on the graphite particles in the anode. The specific chemical composition and physical structure of the SEI have a large impact on the stability of the battery. The composition and structure of the SEI are in turn affected by the specific charging and discharging **current profiles** used during formation.\n",
    "\n",
    "Assume that the effects of different formation cycle current profiles can be summarized by the following two parameters:\n",
    "\n",
    "- Current slope\n",
    "- Current constant\n",
    "\n",
    "The lecture notes explain the physical meanings of current slope and current constant. Note that real experiments performed in laboratories may vary three, four, five, or even more parameters. For simplicity's sake, we will consider just these two.\n",
    "\n",
    "Your goal is to design an experiment to determine the values of current slope and current constant that minimize capacity fading. We will explore the following three approaches to experimental design:\n",
    "\n",
    "- Grid search\n",
    "- Random sampling\n",
    "- Bayesian optimization\n",
    "\n",
    "You know the following information:\n",
    "\n",
    "- You can independently vary current slope and current constant. Both have an impact on capacity fading.\n",
    "- Current slope and current constant can take any value between -3 and 3.\n",
    "- You can perform a maximum of 20 measurements. Measurements are time-consuming and expensive, so you cannot do more.\n",
    "\n",
    "## Tips and tricks\n",
    "\n",
    "- Execute code cells by clicking the cell and hitting \"Shift-Enter\". You can also click the cell and then click the triangular play button in the taskbar.\n",
    "- You can install the necessary dependencies by opening an Anaconda prompt shell in the Anaconda Navigator and running the following command:\n",
    "\n",
    "```sh\n",
    "conda env update --file \"replace/with/path/to/environment.yml\"\n",
    "```\n",
    "\n",
    "- Show the table of contents in the left sidebar by clicking on \"View\" in the taskbar and then selecting \"Table of Contents\".\n",
    "- You may ask ChatGPT or similar for help if you have any difficulties.\n",
    "- Ask a fellow student or the professor if you are unable to resolve an issue.\n",
    "\n",
    "## Setup\n",
    "\n",
    "Please run the code cell directly below to initialize the Jupyter Notebook. You may look at the code in the cell if you wish, but for this exercise is not necessary to understand what it does. After you've run the cell, navigate to the section titled \"Experimental designs\"."
   ]
  },
  {
   "cell_type": "code",
   "execution_count": 1,
   "id": "e70d9b27-edbd-4b29-9a42-c952cecb4b14",
   "metadata": {},
   "outputs": [],
   "source": [
    "import random\n",
    "import time\n",
    "from typing import Iterable, Literal, Tuple\n",
    "\n",
    "import IPython.display\n",
    "import ipywidgets as widgets\n",
    "import matplotlib.pyplot as plt\n",
    "import numpy as np\n",
    "import pandas as pd\n",
    "from scipy.optimize import curve_fit, minimize\n",
    "from scipy.stats import norm\n",
    "from sklearn.gaussian_process import GaussianProcessRegressor\n",
    "from sklearn.gaussian_process.kernels import RBF\n",
    "\n",
    "\n",
    "def show_parameter_space() -> None:\n",
    "    (X, Y) = np.meshgrid(np.zeros(5), np.zeros(5))\n",
    "    Z = Y\n",
    "    \n",
    "    fig, ax = plt.subplots(figsize=(5, 5))\n",
    "\n",
    "    ax.set_title(\"Parameter space\")\n",
    "    ax.grid()\n",
    "    ax.set_xlabel(\"Current slope\")\n",
    "    ax.set_xlim(-3, 3)\n",
    "    ax.set_ylabel(\"Current constant\")\n",
    "    ax.set_ylim(-3, 3)\n",
    "\n",
    "    pcm = ax.pcolormesh(X, Y, Z, cmap=\"twilight\")\n",
    "    cbar = fig.colorbar(pcm)\n",
    "    cbar.ax.set_ylabel(\"Capacity fading\", rotation=-90, va=\"bottom\")\n",
    "\n",
    "\n",
    "def measure_capacity_fading(current_slope: float, current_constant: float) -> float:\n",
    "    return (\n",
    "        (current_slope**2 - 1) * (current_constant**2 - 5)\n",
    "        + current_slope**2\n",
    "        + current_constant**2\n",
    "        - 6\n",
    "    ) / ((current_slope - 0.1) ** 2 + current_constant**2 + 2) ** 2\n",
    "\n",
    "\n",
    "ascii_scientist_1 = r\"\"\"\n",
    "YOUR MEASUREMENT IS BEING PROCESSED. PLEASE WAIT!\n",
    "\n",
    "                    _..._                  \n",
    "                   //'''\\\\                 \n",
    "                   ||. .||                 \n",
    "                   |\\ _ /|      (          \n",
    "                  .-/\\ /\\-.     )   |      \n",
    "                 |  ` \\ '  |    _   |      \n",
    "           (     | |  |  | |    H=--+-     \n",
    "           ))    | |__|[ | |    U   |      \n",
    "           __    \\___(_3/ /     )   |      \n",
    "-|_H_H_|---||---------|!|/------|---|---.  \n",
    " |_U_U_|  /__\\        |_|      _[_ _|__  \\ \n",
    "------------------------------------------`\n",
    "\"\"\"\n",
    "\n",
    "ascii_scientist_2 = r\"\"\"\n",
    "YOUR MEASUREMENT IS BEING PROCESSED. PLEASE WAIT!\n",
    "\n",
    "                    _..._                  \n",
    "                   //'''\\\\                 \n",
    "                   ||o o||                 \n",
    "                   |\\ _ /|      )          \n",
    "                  .-/\\ /\\-.     (   |      \n",
    "                 |  ` \\ '  |    _   |      \n",
    "           )     | |  |  | |    H=--+-     \n",
    "           ((    | |__|[ | |    U   |      \n",
    "           __    \\___(_3/ /     (   |      \n",
    "-|_H_H_|---||---------|!|/------|---|---.  \n",
    " |_U_U_|  /__\\        |_|      _[_ _|__  \\ \n",
    "------------------------------------------`\n",
    "\"\"\"\n",
    "\n",
    "\n",
    "def animate_scientist(num_frames: int=10) -> None:\n",
    "    for _ in range(num_frames):\n",
    "        IPython.display.clear_output(wait=True)\n",
    "        print(ascii_scientist_1)\n",
    "        time.sleep(0.5)\n",
    "\n",
    "        IPython.display.clear_output(wait=True)\n",
    "        print(ascii_scientist_2)\n",
    "        time.sleep(0.5)\n",
    "\n",
    "\n",
    "def lab_measurement(current_slope: float, current_constant: float) -> None:\n",
    "    animate_scientist()\n",
    "    IPython.display.clear_output\n",
    "    print(\"YOUR MEASUREMENT IS FINISHED!\")\n",
    "    print(f\"The measured capacity fading is: {measure_capacity_fading(current_slope, current_constant)}\")\n",
    "\n",
    "\n",
    "def linear(X: np.ndarray, a: float, b: float, c: float) -> float:\n",
    "    return X[0] * a + X[1] * b + c\n",
    "\n",
    "\n",
    "def quadratic(X: np.ndarray, a: float, b: float, c: float, d: float, e: float, f: float) -> float:\n",
    "    return a * X[0] ** 2 + b * X[1] ** 2 + c * X[0] * X[1] + d * X[0] + e * X[1] + f\n",
    "\n",
    "\n",
    "def gaussian(X: np.ndarray, A: float, mu_1: float, sigma_1: float, mu_2: float, sigma_2: float) -> float:\n",
    "    exponent = -((X[0] - mu_1) ** 2 / (2 * sigma_1**2)) - (\n",
    "        (X[1] - mu_2) ** 2 / (2 * sigma_2**2)\n",
    "    )\n",
    "    return A * np.exp(exponent)\n",
    "\n",
    "\n",
    "def fit_function(\n",
    "    model_function: Literal[\"linear\", \"quadratic\", \"gaussian\"],\n",
    "    measurements: pd.DataFrame,\n",
    ") -> Tuple[np.ndarray, np.ndarray, pd.Series, pd.Series]:\n",
    "    if model_function == \"linear\":\n",
    "        f = linear\n",
    "        popt = [1, 1, 1]\n",
    "    elif model_function == \"quadratic\":\n",
    "        f = quadratic\n",
    "        popt = [1, 1, 1, 1, 1, 1]\n",
    "    elif model_function == \"gaussian\":\n",
    "        f = gaussian\n",
    "        popt = [1, 1, 1, 1, 1]\n",
    "\n",
    "    popt, pcov = curve_fit(f, [measurements.iloc[:, 0], measurements.iloc[:, 1]], measurements.iloc[:, 2], p0=popt)\n",
    "\n",
    "    return popt, pcov, measurements.iloc[:, 0], measurements.iloc[:, 1]\n",
    "\n",
    "\n",
    "def plot_gpr(\n",
    "    gpr: GaussianProcessRegressor,\n",
    "    current_slopes: Iterable[float],\n",
    "    current_constants: Iterable[float],\n",
    "    i: int,\n",
    "    bounds: Iterable[int]=[-3, 3],\n",
    "    minimize: bool=False\n",
    ") -> None:\n",
    "    resolution = 100\n",
    "    x1_ = np.linspace(bounds[0], bounds[1], resolution)\n",
    "    x2_ = x1_\n",
    "    X1_, X2_ = np.meshgrid(x1_, x2_)\n",
    "    X_all = [\n",
    "        [X1_[i, j], X2_[i, j]] for i in range(resolution) for j in range(resolution)\n",
    "    ]\n",
    "    Y_all = gpr.predict(X_all, return_std=False)\n",
    "    Y_all = Y_all.reshape((resolution, resolution))\n",
    "\n",
    "    fig, ax = plt.subplots(figsize=(5, 5))\n",
    "    \n",
    "    pcm = ax.pcolormesh(X1_, X2_, Y_all, cmap=\"twilight\")\n",
    "    cbar = fig.colorbar(pcm)\n",
    "    cbar.ax.set_ylabel(\"Capacity fading\", rotation=-90, va=\"bottom\")\n",
    "\n",
    "    ax.set_title(f\"Current knowledge after {i} measurements\")\n",
    "    ax.set_xlabel(\"Current slope\")\n",
    "    ax.set_ylabel(\"Current constant\")\n",
    "    ax.scatter(current_slopes, current_constants, marker=\"x\", color=\"black\")\n",
    "\n",
    "    if minimize:\n",
    "        y = gpr.predict(X_all)\n",
    "        idx = np.where(y == min(y))[0][0]\n",
    "        minx1 = X_all[idx][0]\n",
    "        minx2 = X_all[idx][1]\n",
    "        miny = min(y)\n",
    "        ax.plot(minx1, minx2, \"x\", markersize=15, color=\"g\")\n",
    "        return minx1, minx2, miny\n",
    "\n",
    "\n",
    "def bayesian_optimizer(measurements: pd.DataFrame, output: bool=True):\n",
    "    print(\"YOUR DATA :\")\n",
    "    print(measurements)\n",
    "    current_slope = measurements.iloc[:, 0]\n",
    "    current_constant = measurements.iloc[:, 1]\n",
    "    y = measurements.iloc[:, 2]\n",
    "\n",
    "    kernel = RBF(length_scale=1)\n",
    "    gpr = GaussianProcessRegressor(kernel=kernel, random_state=0)\n",
    "\n",
    "    X = [[current_slope[i], current_constant[i]] for i in range(len(current_slope))]\n",
    "    gpr.fit(X, y)\n",
    "    if output:\n",
    "        i = len(current_slope)\n",
    "        plot_gpr(gpr, current_slope, current_constant, i)\n",
    "\n",
    "        next_sample_1 = minimize(\n",
    "            lambda x: upper_confidence_bound(x.reshape(1, -1), X, y, gpr, kappa=0.5),\n",
    "            x0=np.random.uniform(0, 1, size=(2,)),\n",
    "            bounds=[(-3, 3), (-3, 3)],\n",
    "            method=\"L-BFGS-B\",\n",
    "        ).x\n",
    "\n",
    "        next_sample_2 = minimize(\n",
    "            lambda x: upper_confidence_bound(x.reshape(1, -1), X, y, gpr, kappa=1.5),\n",
    "            x0=np.random.uniform(0, 1, size=(2,)),\n",
    "            bounds=[(-3, 3), (-3, 3)],\n",
    "            method=\"L-BFGS-B\",\n",
    "        ).x\n",
    "\n",
    "        print(\" YOUR NEXT MEASUREMENT POINTS SHOULD BE: \")\n",
    "        print(\" Measurement 1: \")\n",
    "        print(f\" Current slope : {next_sample_1[0]}\")\n",
    "        print(f\" Current constant : {next_sample_1[1]}\")\n",
    "        print(\" Measurement 2: \")\n",
    "        print(f\" Current slope : {next_sample_2[0]}\")\n",
    "        print(f\" Current constant : {next_sample_2[1]}\")\n",
    "        print(\"RECORD THE CURRENT SLOPE AND CURRENT CONSTANT VALUES IN THE LAB BOOK.\")\n",
    "        print(\"THEN MEASURE THEM AND HIT SUBMIT\")\n",
    "\n",
    "    else:\n",
    "        return gpr, current_slope, current_constant\n",
    "\n",
    "\n",
    "def minimize_and_visualize(\n",
    "    opt,\n",
    "    cov,\n",
    "    model_function: Literal[\"linear\", \"quadratic\", \"gaussian\"],\n",
    "    experimental_design: Literal[\"Random sampling\", \"Grid search\", \"Bayesian optimization\"],\n",
    "    original_current_slope=0,\n",
    "    original_current_constant=0\n",
    "):\n",
    "    if model_function == \"linear\":\n",
    "        f = linear\n",
    "    elif model_function == \"quadratic\":\n",
    "        f = quadratic\n",
    "    elif model_function == \"gaussian\":\n",
    "        f = gaussian\n",
    "\n",
    "    x1 = np.linspace(-3, 3, 50)\n",
    "    x2 = np.linspace(-3, 3, 50)\n",
    "    X1, X2 = np.meshgrid(x1, x2)\n",
    "    X1_all = X1.reshape(-1, 1)\n",
    "    X2_all = X2.reshape(-1, 1)\n",
    "\n",
    "    y = f([X1, X2], *opt)\n",
    "\n",
    "    # minimize\n",
    "    y_ = y.reshape(-1, 1)\n",
    "    idx = np.where(y_ == min(y_))[0][0]\n",
    "    minx1 = X1_all[idx]\n",
    "    minx2 = X2_all[idx]\n",
    "    miny = min(y_)\n",
    "\n",
    "    # visualize\n",
    "    fig, ax = plt.subplots(figsize=(5, 5))\n",
    "\n",
    "    pcm = ax.pcolormesh(X1, X2, y, cmap=\"twilight\")\n",
    "    cbar = fig.colorbar(pcm)\n",
    "    cbar.ax.set_ylabel(\"Capacity fading\", rotation=-90, va=\"bottom\")\n",
    "    \n",
    "    ax.set_title(f\"{experimental_design} results\")\n",
    "    ax.set_xlabel(\"Current slope\")\n",
    "    ax.set_ylabel(\"Current constant\")\n",
    "    ax.plot(minx1, minx2, \"x\", markersize=15, color=\"g\")\n",
    "    ax.plot(original_current_slope, original_current_constant, \"x\", color=\"black\")\n",
    "\n",
    "    print(\"Your minimum can be found at: \")\n",
    "    print(f\"Current slope: {minx1}\")\n",
    "    print(f\"Current constant: {minx2}\")\n",
    "    print(f\"Capacity fading: {miny}\")\n",
    "\n",
    "\n",
    "def perform_random_sampling(measurements: pd.DataFrame, num_measurements: int):\n",
    "    lower_bound = -3\n",
    "    upper_bound = 3\n",
    "\n",
    "    current_slopes = [random.uniform(lower_bound, upper_bound) for _ in range(num_measurements)]\n",
    "    current_constants = [random.uniform(lower_bound, upper_bound) for _ in range(num_measurements)]\n",
    "    capacity_fadings = [measure_capacity_fading(s, c) for (s, c) in zip(current_slopes, current_constants)]\n",
    "    \n",
    "    measurements.drop(measurements.index, inplace=True)\n",
    "    for i in range(num_measurements):\n",
    "        measurements.loc[len(measurements), measurements.columns] = [current_slopes[i], current_constants[i], capacity_fadings[i]]\n",
    "\n",
    "\n",
    "# Acquisition function: Expected Improvement\n",
    "def expected_improvement(X, X_sample, y_sample, gp, xi=0.01):\n",
    "    X = X.reshape(-1, 2)  # Ensure correct shape for input points\n",
    "    mu, sigma = gp.predict(X, return_std=True)\n",
    "    mu_sample = gp.predict(X_sample)\n",
    "\n",
    "    # Calculate the improvement\n",
    "    sigma = sigma.reshape(-1, 1)\n",
    "    with np.errstate(divide=\"warn\"):\n",
    "        imp = mu - np.min(mu_sample) - xi\n",
    "        Z = imp / sigma\n",
    "        ei = imp * norm.cdf(Z) + sigma * norm.pdf(Z)\n",
    "        ei[sigma == 0.0] = 0.0\n",
    "    return ei\n",
    "\n",
    "\n",
    "# Aquisition function: Upper confidence Bound\n",
    "def upper_confidence_bound(X, X_sample, y_sample, gp, kappa=2.0):\n",
    "    \"\"\"\n",
    "    Computes the Upper Confidence Bound (UCB) acquisition function for Bayesian Optimization.\n",
    "\n",
    "    Parameters:\n",
    "    X : np.ndarray\n",
    "        Points where the UCB acquisition function should be evaluated, shape (n_points, n_features).\n",
    "    X_sample : np.ndarray\n",
    "        Sample locations already evaluated, shape (n_sample, n_features).\n",
    "    y_sample : np.ndarray\n",
    "        Sample values at X_sample, shape (n_sample,).\n",
    "    gp : GaussianProcessRegressor\n",
    "        A trained Gaussian Process model.\n",
    "    kappa : float\n",
    "        The exploration-exploitation trade-off parameter.\n",
    "\n",
    "    Returns:\n",
    "    np.ndarray\n",
    "        UCB values for each point in X, shape (n_points,).\n",
    "    \"\"\"\n",
    "    # Predict mean and standard deviation at each point X\n",
    "    mu, sigma = gp.predict(X, return_std=True)\n",
    "    # UCB calculation\n",
    "    ucb = mu - kappa * abs(sigma)\n",
    "    return ucb\n",
    "\n",
    "\n",
    "def lab_notebook(measurements: pd.DataFrame) -> None:\n",
    "    def create_input_row(initial_value: float=0.0) -> widgets.HBox:\n",
    "        return widgets.HBox([widgets.FloatText(layout=widgets.Layout(width=\"150px\")) for _ in measurements.columns])\n",
    "\n",
    "\n",
    "    header = widgets.HBox([widgets.Label(value=column, layout=widgets.Layout(width=\"150px\")) for column in measurements.columns])\n",
    "    input_rows = widgets.VBox([\n",
    "        widgets.HBox([\n",
    "            widgets.FloatText(value=measurement[\"Current slope\"], layout=widgets.Layout(width=\"150px\")),\n",
    "            widgets.FloatText(value=measurement[\"Current constant\"], layout=widgets.Layout(width=\"150px\")),\n",
    "            widgets.FloatText(value=measurement[\"Capacity fading\"], layout=widgets.Layout(width=\"250px\")),\n",
    "        ])\n",
    "        for _, measurement in measurements.iterrows()\n",
    "    ])\n",
    "\n",
    "    add_measurement_button = widgets.Button(description=\"Add measurement\")\n",
    "    update_button = widgets.Button(description=\"Update\", button_style=\"success\")\n",
    "    \n",
    "    \n",
    "    def on_add_measurement(unused_add_measurement_button: widgets.Button) -> None:\n",
    "        input_rows.children = list(input_rows.children) + [create_input_row()]\n",
    "    \n",
    "    \n",
    "    def on_update(update_button: widgets.Button) -> None:\n",
    "        measurements.drop(measurements.index, inplace=True)\n",
    "        for input_row in input_rows.children:\n",
    "            measurements.loc[len(measurements), measurements.columns] = [cell.value for cell in input_row.children]\n",
    "\n",
    "\n",
    "    add_measurement_button.on_click(on_add_measurement)\n",
    "    update_button.on_click(on_update)\n",
    "    IPython.display.display(header, input_rows, widgets.HBox([add_measurement_button, update_button]))\n",
    "\n",
    "\n",
    "columns = [\"Current slope\", \"Current constant\", \"Capacity fading\"]\n",
    "grid_search_measurements = pd.DataFrame(columns=columns)\n",
    "random_sampling_measurements = pd.DataFrame(columns=columns)\n",
    "bayesian_optimization_measurements = pd.DataFrame(columns=columns)"
   ]
  },
  {
   "cell_type": "markdown",
   "id": "52790435-0a9f-4394-9051-54c70091076d",
   "metadata": {},
   "source": [
    "## Experimental designs\n",
    "\n",
    "We will explore the following three approaches to experimental design:\n",
    "\n",
    "- Grid search\n",
    "- Random sampling\n",
    "- Bayesian optimization\n",
    "\n",
    "Your goal is to determine the values of current slope and current constant that minimize the measured capacity fading. Run the next code cell to see a visualization of the parameter space."
   ]
  },
  {
   "cell_type": "code",
   "execution_count": 2,
   "id": "ed45f27e-d0b1-4f24-8684-f875e5b8026c",
   "metadata": {},
   "outputs": [
    {
     "data": {
      "image/png": "[encoded data removed]",
      "text/plain": [
       "<Figure size 500x500 with 2 Axes>"
      ]
     },
     "metadata": {},
     "output_type": "display_data"
    }
   ],
   "source": [
    "show_parameter_space()"
   ]
  },
  {
   "cell_type": "markdown",
   "id": "d982f400-a82c-43e6-9b7b-500e8b9d4c7b",
   "metadata": {},
   "source": [
    "### Grid search\n",
    "\n",
    "A simple approach to optimizing multiple parameters is to systematically explore the entire parameter space. For example, you might test the following parameter values:\n",
    "\n",
    "| Current slope | Current constant |\n",
    "| ------------- | ---------------- |\n",
    "| -3            | -3               |\n",
    "| -3            | 0                |\n",
    "| -3            | 3                |\n",
    "| 0             | -3               |\n",
    "| 0             | 0                |\n",
    "| 0             | 3                |\n",
    "| 3             | -3               |\n",
    "| 3             | 0                |\n",
    "| 3             | 3                |\n",
    "\n",
    "Think about how you will approach the experiment.\n",
    "\n",
    "- What parameter values will you measure?\n",
    "- How will you know when you've found the optimal values for current slope and current constant?\n",
    "\n",
    "Perform your experiment with the `lab_measurement` method below by giving it values for the current slope and current constant. Then record your measurements in the lab notebook. Remember to click \"Update\" after entering your measurements."
   ]
  },
  {
   "cell_type": "code",
   "execution_count": 12,
   "id": "8f6eb7e4-a665-4178-a2c2-9e95e7c99da4",
   "metadata": {},
   "outputs": [
    {
     "name": "stdout",
     "output_type": "stream",
     "text": [
      "\n",
      "YOUR MEASUREMENT IS BEING PROCESSED. PLEASE WAIT!\n",
      "\n",
      "                    _..._                  \n",
      "                   //'''\\\\                 \n",
      "                   ||o o||                 \n",
      "                   |\\ _ /|      )          \n",
      "                  .-/\\ /\\-.     (   |      \n",
      "                 |  ` \\ '  |    _   |      \n",
      "           )     | |  |  | |    H=--+-     \n",
      "           ((    | |__|[ | |    U   |      \n",
      "           __    \\___(_3/ /     (   |      \n",
      "-|_H_H_|---||---------|!|/------|---|---.  \n",
      " |_U_U_|  /__\\        |_|      _[_ _|__  \\ \n",
      "------------------------------------------`\n",
      "\n",
      "YOUR MEASUREMENT IS FINISHED!\n",
      "The measured capacity fading is: 0.11678891014977912\n"
     ]
    }
   ],
   "source": [
    "lab_measurement(current_slope=3, current_constant=3)"
   ]
  },
  {
   "cell_type": "code",
   "execution_count": 4,
   "id": "20305a15-c557-433a-bfa6-100dafe62e31",
   "metadata": {},
   "outputs": [
    {
     "data": {
      "application/vnd.jupyter.widget-view+json": {
       "model_id": "3de1613b80064175a4b6514a1d02c2ba",
       "version_major": 2,
       "version_minor": 0
      },
      "text/plain": [
       "HBox(children=(Label(value='Current slope', layout=Layout(width='150px')), Label(value='Current constant', lay…"
      ]
     },
     "metadata": {},
     "output_type": "display_data"
    },
    {
     "data": {
      "application/vnd.jupyter.widget-view+json": {
       "model_id": "1e426026165b41bdbbe8d7936e98e7a7",
       "version_major": 2,
       "version_minor": 0
      },
      "text/plain": [
       "VBox()"
      ]
     },
     "metadata": {},
     "output_type": "display_data"
    },
    {
     "data": {
      "application/vnd.jupyter.widget-view+json": {
       "model_id": "4dc3aca801274e678f83642528913700",
       "version_major": 2,
       "version_minor": 0
      },
      "text/plain": [
       "HBox(children=(Button(description='Add measurement', style=ButtonStyle()), Button(button_style='success', desc…"
      ]
     },
     "metadata": {},
     "output_type": "display_data"
    }
   ],
   "source": [
    "lab_notebook(grid_search_measurements)"
   ]
  },
  {
   "cell_type": "code",
   "execution_count": 14,
   "id": "116f9a09-7d6f-4ff9-8d17-b3a520fd3ef8",
   "metadata": {},
   "outputs": [
    {
     "data": {
      "text/html": [
       "<div>\n",
       "<style scoped>\n",
       "    .dataframe tbody tr th:only-of-type {\n",
       "        vertical-align: middle;\n",
       "    }\n",
       "\n",
       "    .dataframe tbody tr th {\n",
       "        vertical-align: top;\n",
       "    }\n",
       "\n",
       "    .dataframe thead th {\n",
       "        text-align: right;\n",
       "    }\n",
       "</style>\n",
       "<table border=\"1\" class=\"dataframe\">\n",
       "  <thead>\n",
       "    <tr style=\"text-align: right;\">\n",
       "      <th></th>\n",
       "      <th>Current slope</th>\n",
       "      <th>Current constant</th>\n",
       "      <th>Capacity fading</th>\n",
       "    </tr>\n",
       "  </thead>\n",
       "  <tbody>\n",
       "    <tr>\n",
       "      <th>0</th>\n",
       "      <td>-3.0</td>\n",
       "      <td>-3.0</td>\n",
       "      <td>0.103585</td>\n",
       "    </tr>\n",
       "    <tr>\n",
       "      <th>1</th>\n",
       "      <td>-3.0</td>\n",
       "      <td>0.0</td>\n",
       "      <td>-0.274497</td>\n",
       "    </tr>\n",
       "    <tr>\n",
       "      <th>2</th>\n",
       "      <td>-3.0</td>\n",
       "      <td>3.0</td>\n",
       "      <td>0.103585</td>\n",
       "    </tr>\n",
       "    <tr>\n",
       "      <th>3</th>\n",
       "      <td>0.0</td>\n",
       "      <td>-3.0</td>\n",
       "      <td>-0.008249</td>\n",
       "    </tr>\n",
       "    <tr>\n",
       "      <th>4</th>\n",
       "      <td>0.0</td>\n",
       "      <td>0.0</td>\n",
       "      <td>-0.247519</td>\n",
       "    </tr>\n",
       "    <tr>\n",
       "      <th>5</th>\n",
       "      <td>0.0</td>\n",
       "      <td>3.0</td>\n",
       "      <td>-0.008249</td>\n",
       "    </tr>\n",
       "    <tr>\n",
       "      <th>6</th>\n",
       "      <td>3.0</td>\n",
       "      <td>-3.0</td>\n",
       "      <td>0.116789</td>\n",
       "    </tr>\n",
       "    <tr>\n",
       "      <th>7</th>\n",
       "      <td>3.0</td>\n",
       "      <td>0.0</td>\n",
       "      <td>-0.341429</td>\n",
       "    </tr>\n",
       "    <tr>\n",
       "      <th>8</th>\n",
       "      <td>3.0</td>\n",
       "      <td>3.0</td>\n",
       "      <td>0.116789</td>\n",
       "    </tr>\n",
       "  </tbody>\n",
       "</table>\n",
       "</div>"
      ],
      "text/plain": [
       "  Current slope Current constant Capacity fading\n",
       "0          -3.0             -3.0        0.103585\n",
       "1          -3.0              0.0       -0.274497\n",
       "2          -3.0              3.0        0.103585\n",
       "3           0.0             -3.0       -0.008249\n",
       "4           0.0              0.0       -0.247519\n",
       "5           0.0              3.0       -0.008249\n",
       "6           3.0             -3.0        0.116789\n",
       "7           3.0              0.0       -0.341429\n",
       "8           3.0              3.0        0.116789"
      ]
     },
     "execution_count": 14,
     "metadata": {},
     "output_type": "execute_result"
    }
   ],
   "source": [
    "grid_search_measurements"
   ]
  },
  {
   "cell_type": "markdown",
   "id": "eb78a8b3-96be-4855-8ebb-ed2fe4678eca",
   "metadata": {},
   "source": [
    "Once you have conducted all of the measurements, try to determine the optimal values for current slope and current constant by looking at your data. Which parameter values minimize the capacity fading?\n",
    "\n",
    "Next, try to determine the minimium by modeling your data with different functions. Run the following code cell. Try choosing different values for `model_function`. How does your choice impact the estimated minimium?"
   ]
  },
  {
   "cell_type": "code",
   "execution_count": 15,
   "id": "74c86dcd-d2ca-486f-a7a4-a3ecfe1e013a",
   "metadata": {},
   "outputs": [
    {
     "name": "stderr",
     "output_type": "stream",
     "text": [
      "/tmp/nix-shell-97139-0/ipykernel_134955/76698282.py:125: OptimizeWarning: Covariance of the parameters could not be estimated\n",
      "  popt, pcov = curve_fit(f, [measurements.iloc[:, 0], measurements.iloc[:, 1]], measurements.iloc[:, 2], p0=popt)\n"
     ]
    },
    {
     "name": "stdout",
     "output_type": "stream",
     "text": [
      "Your minimum can be found at: \n",
      "Current slope: [0.18367347]\n",
      "Current constant: [-0.06122449]\n",
      "Capacity fading: [-0.32706486]\n"
     ]
    },
    {
     "data": {
      "image/png": "[encoded data removed]",
      "text/plain": [
       "<Figure size 500x500 with 2 Axes>"
      ]
     },
     "metadata": {},
     "output_type": "display_data"
    }
   ],
   "source": [
    "# model_function can be set to \"quadratic\", \"linear\", or \"gaussian\"\n",
    "model_function = \"quadratic\"\n",
    "opt, cov, current_slope, current_constant = fit_function(model_function, grid_search_measurements)\n",
    "minimize_and_visualize(\n",
    "    opt,\n",
    "    cov,\n",
    "    model_function,\n",
    "    experimental_design=\"Grid search\",\n",
    "    original_current_slope=current_slope,\n",
    "    original_current_constant=current_constant\n",
    ")"
   ]
  },
  {
   "cell_type": "markdown",
   "id": "8ddc120a-ebaa-4013-ae24-3f2feb385599",
   "metadata": {},
   "source": [
    "Compare your own minimum and to that found by the function fit.\n",
    "\n",
    "- How much do they differ?\n",
    "- Is there a way to determine which one is more accurate?\n",
    "- What are the benefits of this approach to experimental design?\n",
    "- What are the drawbacks of this approach to experimental design?"
   ]
  },
  {
   "cell_type": "markdown",
   "id": "1c08fbb5-51bc-4704-beae-2b2b811f7003",
   "metadata": {},
   "source": [
    "### Random sampling\n",
    "\n",
    "Random sampling is the process of repeatedly selecting parameter values to measure at random. Common choices for sampling distributions are the uniform and normal (Gaussian) distributions. Since you are already an expert in the lab, you now have a student assistant who will do all the measurements for you. All you need to do is execute the next cell."
   ]
  },
  {
   "cell_type": "code",
   "execution_count": 16,
   "id": "b798a78f-ef73-4976-bf32-fbfc4d905259",
   "metadata": {},
   "outputs": [],
   "source": [
    "perform_random_sampling(random_sampling_measurements, num_measurements=20)"
   ]
  },
  {
   "cell_type": "code",
   "execution_count": 17,
   "id": "ffc756bf-1f4e-4193-90d1-aa5b2ee2b3fb",
   "metadata": {},
   "outputs": [
    {
     "data": {
      "text/html": [
       "<div>\n",
       "<style scoped>\n",
       "    .dataframe tbody tr th:only-of-type {\n",
       "        vertical-align: middle;\n",
       "    }\n",
       "\n",
       "    .dataframe tbody tr th {\n",
       "        vertical-align: top;\n",
       "    }\n",
       "\n",
       "    .dataframe thead th {\n",
       "        text-align: right;\n",
       "    }\n",
       "</style>\n",
       "<table border=\"1\" class=\"dataframe\">\n",
       "  <thead>\n",
       "    <tr style=\"text-align: right;\">\n",
       "      <th></th>\n",
       "      <th>Current slope</th>\n",
       "      <th>Current constant</th>\n",
       "      <th>Capacity fading</th>\n",
       "    </tr>\n",
       "  </thead>\n",
       "  <tbody>\n",
       "    <tr>\n",
       "      <th>0</th>\n",
       "      <td>0.785841</td>\n",
       "      <td>2.431465</td>\n",
       "      <td>0.002573</td>\n",
       "    </tr>\n",
       "    <tr>\n",
       "      <th>1</th>\n",
       "      <td>2.73379</td>\n",
       "      <td>-0.345846</td>\n",
       "      <td>-0.365773</td>\n",
       "    </tr>\n",
       "    <tr>\n",
       "      <th>2</th>\n",
       "      <td>-1.869279</td>\n",
       "      <td>0.631941</td>\n",
       "      <td>-0.344654</td>\n",
       "    </tr>\n",
       "    <tr>\n",
       "      <th>3</th>\n",
       "      <td>-1.183731</td>\n",
       "      <td>-0.083575</td>\n",
       "      <td>-0.493694</td>\n",
       "    </tr>\n",
       "    <tr>\n",
       "      <th>4</th>\n",
       "      <td>-2.03462</td>\n",
       "      <td>0.210585</td>\n",
       "      <td>-0.398764</td>\n",
       "    </tr>\n",
       "    <tr>\n",
       "      <th>5</th>\n",
       "      <td>-0.347012</td>\n",
       "      <td>-1.026526</td>\n",
       "      <td>-0.127981</td>\n",
       "    </tr>\n",
       "    <tr>\n",
       "      <th>6</th>\n",
       "      <td>0.142766</td>\n",
       "      <td>1.037378</td>\n",
       "      <td>-0.111843</td>\n",
       "    </tr>\n",
       "    <tr>\n",
       "      <th>7</th>\n",
       "      <td>1.825877</td>\n",
       "      <td>-2.512561</td>\n",
       "      <td>0.052635</td>\n",
       "    </tr>\n",
       "    <tr>\n",
       "      <th>8</th>\n",
       "      <td>-2.777088</td>\n",
       "      <td>1.16421</td>\n",
       "      <td>-0.158105</td>\n",
       "    </tr>\n",
       "    <tr>\n",
       "      <th>9</th>\n",
       "      <td>1.941262</td>\n",
       "      <td>2.966596</td>\n",
       "      <td>0.08487</td>\n",
       "    </tr>\n",
       "    <tr>\n",
       "      <th>10</th>\n",
       "      <td>0.198325</td>\n",
       "      <td>-0.045941</td>\n",
       "      <td>-0.285934</td>\n",
       "    </tr>\n",
       "    <tr>\n",
       "      <th>11</th>\n",
       "      <td>0.106799</td>\n",
       "      <td>-1.222911</td>\n",
       "      <td>-0.084178</td>\n",
       "    </tr>\n",
       "    <tr>\n",
       "      <th>12</th>\n",
       "      <td>1.354289</td>\n",
       "      <td>1.607697</td>\n",
       "      <td>-0.094826</td>\n",
       "    </tr>\n",
       "    <tr>\n",
       "      <th>13</th>\n",
       "      <td>-1.006891</td>\n",
       "      <td>0.265395</td>\n",
       "      <td>-0.45887</td>\n",
       "    </tr>\n",
       "    <tr>\n",
       "      <th>14</th>\n",
       "      <td>-1.909457</td>\n",
       "      <td>0.684999</td>\n",
       "      <td>-0.327642</td>\n",
       "    </tr>\n",
       "    <tr>\n",
       "      <th>15</th>\n",
       "      <td>1.171644</td>\n",
       "      <td>-1.592307</td>\n",
       "      <td>-0.093185</td>\n",
       "    </tr>\n",
       "    <tr>\n",
       "      <th>16</th>\n",
       "      <td>-2.95437</td>\n",
       "      <td>2.292156</td>\n",
       "      <td>0.036164</td>\n",
       "    </tr>\n",
       "    <tr>\n",
       "      <th>17</th>\n",
       "      <td>-0.042985</td>\n",
       "      <td>-2.387423</td>\n",
       "      <td>-0.016725</td>\n",
       "    </tr>\n",
       "    <tr>\n",
       "      <th>18</th>\n",
       "      <td>0.501879</td>\n",
       "      <td>-0.040683</td>\n",
       "      <td>-0.428937</td>\n",
       "    </tr>\n",
       "    <tr>\n",
       "      <th>19</th>\n",
       "      <td>-1.557621</td>\n",
       "      <td>-1.121625</td>\n",
       "      <td>-0.212162</td>\n",
       "    </tr>\n",
       "  </tbody>\n",
       "</table>\n",
       "</div>"
      ],
      "text/plain": [
       "   Current slope Current constant Capacity fading\n",
       "0       0.785841         2.431465        0.002573\n",
       "1        2.73379        -0.345846       -0.365773\n",
       "2      -1.869279         0.631941       -0.344654\n",
       "3      -1.183731        -0.083575       -0.493694\n",
       "4       -2.03462         0.210585       -0.398764\n",
       "5      -0.347012        -1.026526       -0.127981\n",
       "6       0.142766         1.037378       -0.111843\n",
       "7       1.825877        -2.512561        0.052635\n",
       "8      -2.777088          1.16421       -0.158105\n",
       "9       1.941262         2.966596         0.08487\n",
       "10      0.198325        -0.045941       -0.285934\n",
       "11      0.106799        -1.222911       -0.084178\n",
       "12      1.354289         1.607697       -0.094826\n",
       "13     -1.006891         0.265395        -0.45887\n",
       "14     -1.909457         0.684999       -0.327642\n",
       "15      1.171644        -1.592307       -0.093185\n",
       "16      -2.95437         2.292156        0.036164\n",
       "17     -0.042985        -2.387423       -0.016725\n",
       "18      0.501879        -0.040683       -0.428937\n",
       "19     -1.557621        -1.121625       -0.212162"
      ]
     },
     "execution_count": 17,
     "metadata": {},
     "output_type": "execute_result"
    }
   ],
   "source": [
    "random_sampling_measurements"
   ]
  },
  {
   "cell_type": "markdown",
   "id": "17e4b230-a5bb-4de7-b5d3-853607cf4bcc",
   "metadata": {},
   "source": [
    "- As before, try to determine the minimum by hand.\n",
    "- As before, try to determine the minimum by modeling your data with different functions."
   ]
  },
  {
   "cell_type": "code",
   "execution_count": 18,
   "id": "300f2276-9355-4017-9aa4-286cd7bd7718",
   "metadata": {},
   "outputs": [
    {
     "name": "stdout",
     "output_type": "stream",
     "text": [
      "Your minimum can be found at: \n",
      "Current slope: [-3.]\n",
      "Current constant: [-0.42857143]\n",
      "Capacity fading: [-0.41330422]\n"
     ]
    },
    {
     "data": {
      "image/png": "[encoded data removed]",
      "text/plain": [
       "<Figure size 500x500 with 2 Axes>"
      ]
     },
     "metadata": {},
     "output_type": "display_data"
    }
   ],
   "source": [
    "# model_function can be set to \"quadratic\", \"linear\", or \"gaussian\"\n",
    "model_function = \"quadratic\"\n",
    "opt, cov, current_slope, current_constant = fit_function(model_function, random_sampling_measurements)\n",
    "minimize_and_visualize(\n",
    "    opt,\n",
    "    cov,\n",
    "    model_function,\n",
    "    experimental_design=\"Grid search\",\n",
    "    original_current_slope=current_slope,\n",
    "    original_current_constant=current_constant\n",
    ")"
   ]
  },
  {
   "cell_type": "markdown",
   "id": "2091ed2b-3cb0-46c7-a9b1-de3b4fde5b7c",
   "metadata": {},
   "source": [
    "- How accurate is the minimum this time?\n",
    "- What are some drawbacks of this approach to experimental design?"
   ]
  },
  {
   "cell_type": "markdown",
   "id": "26f9447d-9ec4-4188-9ac8-476b4131bdc4",
   "metadata": {},
   "source": [
    "### Bayesian optimization"
   ]
  },
  {
   "cell_type": "markdown",
   "id": "49827753-d4ae-4ecf-b4a9-da69dd02a1e0",
   "metadata": {},
   "source": [
    "A Bayesian Optimizer is an algorithm that continuously updates its knowledge about the measured system. You start by 'feeding' the algorithm 4 initial datapoints. After that, the algorithm tells you where to measure next to try and find the optimal parameter values.\n",
    "\n",
    "Determine the four initial datapoints by running the next cell."
   ]
  },
  {
   "cell_type": "code",
   "execution_count": 19,
   "id": "4e37cad6-ab34-4f36-8575-c4f9150e094b",
   "metadata": {},
   "outputs": [],
   "source": [
    "perform_random_sampling(bayesian_optimization_measurements, num_measurements=4)"
   ]
  },
  {
   "cell_type": "markdown",
   "id": "10b452fe-5ff5-4a38-8e6c-b5c12c644f51",
   "metadata": {},
   "source": [
    "Next, run the Bayesian optimizer. It will tell you the next two measurement points and display its current state of knowledge about the system in a graph. Note down your next parameter_values points in the LabBook, perform the measurement as before, and write down the result likewise. Repeat this until you have performed all of your 20 experiments."
   ]
  },
  {
   "cell_type": "code",
   "execution_count": 25,
   "id": "7d33e18b-565b-4dc7-a383-07ed80e1a25b",
   "metadata": {},
   "outputs": [
    {
     "name": "stdout",
     "output_type": "stream",
     "text": [
      "\n",
      "YOUR MEASUREMENT IS BEING PROCESSED. PLEASE WAIT!\n",
      "\n",
      "                    _..._                  \n",
      "                   //'''\\\\                 \n",
      "                   ||o o||                 \n",
      "                   |\\ _ /|      )          \n",
      "                  .-/\\ /\\-.     (   |      \n",
      "                 |  ` \\ '  |    _   |      \n",
      "           )     | |  |  | |    H=--+-     \n",
      "           ((    | |__|[ | |    U   |      \n",
      "           __    \\___(_3/ /     (   |      \n",
      "-|_H_H_|---||---------|!|/------|---|---.  \n",
      " |_U_U_|  /__\\        |_|      _[_ _|__  \\ \n",
      "------------------------------------------`\n",
      "\n",
      "YOUR MEASUREMENT IS FINISHED!\n",
      "The measured capacity fading is: 0.10358495767495088\n"
     ]
    }
   ],
   "source": [
    "lab_measurement(current_slope=-3, current_constant=3)"
   ]
  },
  {
   "cell_type": "code",
   "execution_count": 20,
   "id": "35f938aa-9b90-40b9-a113-7acade4ee06a",
   "metadata": {},
   "outputs": [
    {
     "data": {
      "application/vnd.jupyter.widget-view+json": {
       "model_id": "73b9de231de44752886ad0d41ab7e1fb",
       "version_major": 2,
       "version_minor": 0
      },
      "text/plain": [
       "HBox(children=(Label(value='Current slope', layout=Layout(width='150px')), Label(value='Current constant', lay…"
      ]
     },
     "metadata": {},
     "output_type": "display_data"
    },
    {
     "data": {
      "application/vnd.jupyter.widget-view+json": {
       "model_id": "3cf39697ea3e4701b5395f1993f15892",
       "version_major": 2,
       "version_minor": 0
      },
      "text/plain": [
       "VBox(children=(HBox(children=(FloatText(value=1.1954878079334854, layout=Layout(width='150px')), FloatText(val…"
      ]
     },
     "metadata": {},
     "output_type": "display_data"
    },
    {
     "data": {
      "application/vnd.jupyter.widget-view+json": {
       "model_id": "dae7839208b147ed971e0cbc96b2e12e",
       "version_major": 2,
       "version_minor": 0
      },
      "text/plain": [
       "HBox(children=(Button(description='Add measurement', style=ButtonStyle()), Button(button_style='success', desc…"
      ]
     },
     "metadata": {},
     "output_type": "display_data"
    }
   ],
   "source": [
    "lab_notebook(bayesian_optimization_measurements)"
   ]
  },
  {
   "cell_type": "code",
   "execution_count": 26,
   "id": "5847de59-0ee6-42bf-8af9-8dffee34f591",
   "metadata": {},
   "outputs": [
    {
     "name": "stdout",
     "output_type": "stream",
     "text": [
      "YOUR DATA :\n",
      "  Current slope Current constant Capacity fading\n",
      "0      1.195488        -1.834552       -0.044231\n",
      "1     -1.131083         1.224328       -0.167014\n",
      "2      0.939204          2.28316        0.001114\n",
      "3     -2.539856         0.606661       -0.280226\n",
      "4          -3.0             -3.0        0.103585\n",
      "5          -3.0              3.0        0.103585\n",
      " YOUR NEXT MEASUREMENT POINTS SHOULD BE: \n",
      " Measurement 1: \n",
      " Current slope : -3.0\n",
      " Current constant : -0.07328173773648984\n",
      " Measurement 2: \n",
      " Current slope : 3.0\n",
      " Current constant : 0.1480526596110777\n",
      "RECORD THE CURRENT SLOPE AND CURRENT CONSTANT VALUES IN THE LAB BOOK.\n",
      "THEN MEASURE THEM AND HIT SUBMIT\n"
     ]
    },
    {
     "data": {
      "image/png": "[encoded data removed]",
      "text/plain": [
       "<Figure size 500x500 with 2 Axes>"
      ]
     },
     "metadata": {},
     "output_type": "display_data"
    }
   ],
   "source": [
    "bayesian_optimizer(bayesian_optimization_measurements)"
   ]
  },
  {
   "cell_type": "markdown",
   "id": "1b470f61-cd4d-45f8-91af-d786fa6f90dc",
   "metadata": {},
   "source": [
    "## Conclusion\n",
    "\n",
    "- Compare all of your results. Which approach to experimental design finds the minimum capacity fading?\n",
    "- How far apart are the results?\n",
    "- Write down the advantages and disadvantages of all three experimental designs, including how the choice of modeling function influences the final result."
   ]
  }
 ],
 "metadata": {
  "kernelspec": {
   "display_name": "Python 3 (ipykernel)",
   "language": "python",
   "name": "python3"
  },
  "language_info": {
   "codemirror_mode": {
    "name": "ipython",
    "version": 3
   },
   "file_extension": ".py",
   "mimetype": "text/x-python",
   "name": "python",
   "nbconvert_exporter": "python",
   "pygments_lexer": "ipython3",
   "version": "3.13.2"
  }
 },
 "nbformat": 4,
 "nbformat_minor": 5
}
